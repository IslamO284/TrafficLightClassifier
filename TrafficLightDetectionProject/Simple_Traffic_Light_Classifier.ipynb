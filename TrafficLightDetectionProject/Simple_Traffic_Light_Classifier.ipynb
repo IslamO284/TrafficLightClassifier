{
 "cells": [
  {
   "cell_type": "markdown",
   "metadata": {},
   "source": [
    "# Basic Traffic Light Classifier\n",
    "---\n",
    "\n",
    "This Traffic light classifier is based off an Udacity final project I completed. It has been cleaned up, optimized and improved in accuracy.\n",
    "\n",
    "It receives an input of traffic light images, and outputs whether they are classified as green, yellow, or red with one-hot encoding.\n",
    "\n",
    "No machine learning techniques are used for classifying, but it does demonstrate Standardizing, pre-processing and feature extraction.\n",
    "\n",
    "CV2 should be installed in your environment."
   ]
  },
  {
   "cell_type": "markdown",
   "metadata": {},
   "source": [
    "## Import image processing and plotting libraries"
   ]
  },
  {
   "cell_type": "code",
   "execution_count": 5,
   "metadata": {},
   "outputs": [],
   "source": [
    "\n",
    "import cv2 # computer vision library\n",
    "import helpers # helper functions\n",
    "\n",
    "import random\n",
    "import numpy as np\n",
    "import matplotlib.pyplot as plt\n",
    "import matplotlib.image as mpimg # for loading in images\n",
    "\n",
    "%matplotlib inline"
   ]
  },
  {
   "cell_type": "markdown",
   "metadata": {},
   "source": [
    "## Set the location for image directories"
   ]
  },
  {
   "cell_type": "code",
   "execution_count": 6,
   "metadata": {},
   "outputs": [],
   "source": [
    "IMAGE_DIR_TRAINING = \"traffic_light_images/training/\"\n",
    "IMAGE_DIR_TEST = \"traffic_light_images/test/\""
   ]
  },
  {
   "cell_type": "markdown",
   "metadata": {},
   "source": [
    "## Load training data"
   ]
  },
  {
   "cell_type": "code",
   "execution_count": 7,
   "metadata": {},
   "outputs": [],
   "source": [
    "IMAGE_LIST = helpers.load_dataset(IMAGE_DIR_TRAINING)"
   ]
  },
  {
   "cell_type": "markdown",
   "metadata": {},
   "source": [
    "## Display a sample image"
   ]
  },
  {
   "cell_type": "code",
   "execution_count": 8,
   "metadata": {},
   "outputs": [
    {
     "data": {
      "text/plain": [
       "<matplotlib.image.AxesImage at 0x11addd780>"
      ]
     },
     "execution_count": 8,
     "metadata": {},
     "output_type": "execute_result"
    },
    {
     "data": {
      "image/png": "[encoded data removed]",
      "text/plain": [
       "<matplotlib.figure.Figure at 0x115353b70>"
      ]
     },
     "metadata": {},
     "output_type": "display_data"
    }
   ],
   "source": [
    "selected_image = IMAGE_LIST[898][0]\n",
    "plt.imshow(selected_image)"
   ]
  },
  {
   "cell_type": "markdown",
   "metadata": {},
   "source": [
    "# Pre-processing Data\n",
    "\n",
    "Input: We will resize and crop images so that they are 32x32 and they mostly include traffic light details\n",
    "\n",
    "Output: Return one-hot encoding for red, yellow or green. [1,0,0], [0,1,0], [0,0,1] respectively."
   ]
  },
  {
   "cell_type": "markdown",
   "metadata": {},
   "source": [
    "## Standardizing input\n",
    "Takes in an RGB image and crops/resizes it to standardize it.\n"
   ]
  },
  {
   "cell_type": "code",
   "execution_count": 17,
   "metadata": {},
   "outputs": [],
   "source": [
    "def standardize_input(image):\n",
    "    row_crop = 3\n",
    "    col_crop = 8\n",
    "    resize_im = cv2.resize(image, (32, 32)) #resize to be 32x32\n",
    "    image_crop = np.copy(resize_im) \n",
    "    #trim edges to ignore details outside traffic light\n",
    "    image_crop = resize_im[row_crop:-row_crop, col_crop:-col_crop, :] \n",
    "    \n",
    "    return image_crop"
   ]
  },
  {
   "cell_type": "markdown",
   "metadata": {},
   "source": [
    "## One-hot encoder\n",
    "Takes in a color string and returns the corresponding one-hot encoder"
   ]
  },
  {
   "cell_type": "code",
   "execution_count": 15,
   "metadata": {},
   "outputs": [],
   "source": [
    "def one_hot_encode(label):\n",
    "    one_hot_encoded = [] \n",
    "    if label == \"red\":\n",
    "        one_hot_encoded = [1,0,0]\n",
    "    if label == \"yellow\":\n",
    "        one_hot_encoded = [0,1,0]\n",
    "    if label == \"green\":\n",
    "        one_hot_encoded  =[0,0,1]\n",
    "    return one_hot_encoded\n",
    "\n"
   ]
  },
  {
   "cell_type": "markdown",
   "metadata": {},
   "source": [
    "## Creating list of standardized images and labels"
   ]
  },
  {
   "cell_type": "code",
   "execution_count": 18,
   "metadata": {},
   "outputs": [],
   "source": [
    "def standardize(image_list):\n",
    "    \n",
    "    standard_list = []\n",
    "\n",
    "    for item in image_list:\n",
    "        image = item[0]\n",
    "        label = item[1]\n",
    "\n",
    "        # Standardize the image\n",
    "        standardized_im = standardize_input(image)\n",
    "\n",
    "        # One-hot encode the label\n",
    "        one_hot_label = one_hot_encode(label)    \n",
    "\n",
    "        # Append the image, and it's one hot encoded label to the full, processed list of image data \n",
    "        standard_list.append((standardized_im, one_hot_label))\n",
    "        \n",
    "    return standard_list\n",
    "\n",
    "# Standardize all training images\n",
    "STANDARDIZED_LIST = standardize(IMAGE_LIST)"
   ]
  },
  {
   "cell_type": "markdown",
   "metadata": {},
   "source": [
    "## Visualizing Standardized image vs raw image\n",
    "\n",
    "**Display standardized image and its label**\n",
    "\n"
   ]
  },
  {
   "cell_type": "code",
   "execution_count": 20,
   "metadata": {},
   "outputs": [
    {
     "name": "stdout",
     "output_type": "stream",
     "text": [
      "[1, 0, 0]\n"
     ]
    },
    {
     "data": {
      "text/plain": [
       "<matplotlib.image.AxesImage at 0x11e202710>"
      ]
     },
     "execution_count": 20,
     "metadata": {},
     "output_type": "execute_result"
    },
    {
     "data": {
      "image/png": "[encoded data removed]",
      "text/plain": [
       "<matplotlib.figure.Figure at 0x11e10d2b0>"
      ]
     },
     "metadata": {},
     "output_type": "display_data"
    }
   ],
   "source": [
    "standardimg = STANDARDIZED_LIST[3][0]\n",
    "standardlabel = STANDARDIZED_LIST[0][1]\n",
    "\n",
    "print(standardlabel)\n",
    "plt.imshow(standardimg)\n"
   ]
  },
  {
   "cell_type": "markdown",
   "metadata": {},
   "source": [
    "**Display raw image**"
   ]
  },
  {
   "cell_type": "code",
   "execution_count": 21,
   "metadata": {},
   "outputs": [
    {
     "name": "stdout",
     "output_type": "stream",
     "text": [
      "red\n"
     ]
    },
    {
     "data": {
      "text/plain": [
       "<matplotlib.image.AxesImage at 0x11e264e48>"
      ]
     },
     "execution_count": 21,
     "metadata": {},
     "output_type": "execute_result"
    },
    {
     "data": {
      "image/png": "[encoded data removed]",
      "text/plain": [
       "<matplotlib.figure.Figure at 0x11e1d4cf8>"
      ]
     },
     "metadata": {},
     "output_type": "display_data"
    }
   ],
   "source": [
    "raw_image = IMAGE_LIST[3][0]\n",
    "raw_image_lbl =  IMAGE_LIST[0][1]\n",
    "print(raw_image_lbl)\n",
    "plt.imshow(raw_image)"
   ]
  },
  {
   "cell_type": "markdown",
   "metadata": {},
   "source": [
    "# Feature Extraction\n",
    "\n",
    "We will be looking for features such as saturation and brightness, in order to help us create a mask for the traffic light. The mask will filter out everything except the light itself. This will be helpful when classifying it by color"
   ]
  },
  {
   "cell_type": "markdown",
   "metadata": {},
   "source": [
    "## RGB to HSV visualization\n",
    "\n",
    "Converting from RGB to HSV will help us with the feature extractions we talked about. The following will display an example as to why it's useful to convert to HSV"
   ]
  },
  {
   "cell_type": "code",
   "execution_count": 24,
   "metadata": {},
   "outputs": [
    {
     "name": "stdout",
     "output_type": "stream",
     "text": [
      "Label [red, yellow, green]: [0, 1, 0]\n"
     ]
    },
    {
     "data": {
      "text/plain": [
       "<matplotlib.image.AxesImage at 0x11e9e0940>"
      ]
     },
     "execution_count": 24,
     "metadata": {},
     "output_type": "execute_result"
    },
    {
     "data": {
      "image/png": "[encoded data removed]",
      "text/plain": [
       "<matplotlib.figure.Figure at 0x11e8e4b00>"
      ]
     },
     "metadata": {},
     "output_type": "display_data"
    }
   ],
   "source": [
    "# Convert and image to HSV colorspace\n",
    "# Visualize the individual color channels\n",
    "\n",
    "image_num = 733\n",
    "test_im = STANDARDIZED_LIST[image_num][0]\n",
    "test_label = STANDARDIZED_LIST[image_num][1]\n",
    "\n",
    "# Convert to HSV\n",
    "hsv = cv2.cvtColor(test_im, cv2.COLOR_RGB2HSV)\n",
    "\n",
    "# Print image label\n",
    "print('Label [red, yellow, green]: ' + str(test_label))\n",
    "\n",
    "# HSV channels\n",
    "h = hsv[:,:,0]\n",
    "s = hsv[:,:,1]\n",
    "v = hsv[:,:,2]\n",
    "\n",
    "# Plot the original image and the three channels\n",
    "f, (ax1, ax2, ax3, ax4) = plt.subplots(1, 4, figsize=(20,10))\n",
    "ax1.set_title('Standardized image')\n",
    "ax1.imshow(test_im)\n",
    "ax2.set_title('H channel')\n",
    "ax2.imshow(h, cmap='gray')\n",
    "ax3.set_title('S channel')\n",
    "ax3.imshow(s, cmap='gray')\n",
    "ax4.set_title('V channel')\n",
    "ax4.imshow(v, cmap='gray')"
   ]
  },
  {
   "cell_type": "markdown",
   "metadata": {},
   "source": [
    "Notice the V (brightness) and S(saturation channel). They provide a lot of information about where our light is located. This will be useful in creating those masks."
   ]
  },
  {
   "cell_type": "markdown",
   "metadata": {},
   "source": [
    "**Defining our masking function**\n",
    "\n",
    "Takes a standardized RGB image and outputs the an image with the important details of a traffic light (light color)\n",
    "\n"
   ]
  },
  {
   "cell_type": "code",
   "execution_count": 25,
   "metadata": {},
   "outputs": [],
   "source": [
    "def get_lightbulb_mask(rgb_image):\n",
    "    hsv = cv2.cvtColor(rgb_image, cv2.COLOR_RGB2HSV) #convert to HSV color space\n",
    "\n",
    "    # Define our color selection boundaries in hsv values\n",
    "    lower_sat = np.array([0,40,150]) #our lower boundary for saturation and brightness\n",
    "    upper_sat = np.array([255,255,255]) \n",
    "    mask = cv2.inRange(hsv, lower_sat, upper_sat)\n",
    "    masked_image = np.copy(rgb_image)\n",
    "    # Mask the image to let the lightbulb show through\n",
    "    masked_image[mask == 0] = [0, 0, 0]\n",
    "\n",
    "    return masked_image"
   ]
  },
  {
   "cell_type": "markdown",
   "metadata": {},
   "source": [
    "**Defining our avg hue feature function**\n",
    "\n",
    "The hue feature will be cross referenced with our saturation mask to see what color our bulb is. Takes in our masked traffic light image and returns a named tuble with an average of red,yellow and green pixels"
   ]
  },
  {
   "cell_type": "code",
   "execution_count": 32,
   "metadata": {},
   "outputs": [],
   "source": [
    "import collections \n",
    "\n",
    "\n",
    "def avg_hue_feature(rgb_masked_image):\n",
    "    hsv = cv2.cvtColor(rgb_masked_image, cv2.COLOR_RGB2HSV) #convert to HSV\n",
    "    np.set_printoptions(threshold=np.inf)  #useful for visualizing our large matrices\n",
    "    flattenedhsv = hsv[:,:,0].flatten() #flatten our matrix so that it's easier to do operations on\n",
    "    #print(flattenedhsv)\n",
    "\n",
    "    #Ranges for the different colors of light. Can be found on any HSV color space chart\n",
    "    reds = flattenedhsv \n",
    "    reds = [i for i in reds if (i > 0 and i<22) or (i>135 and i<=180)]\n",
    "    greens = flattenedhsv\n",
    "    greens = [i for i in greens if (i >= 40 and i<96)]\n",
    "    yellows = flattenedhsv\n",
    "    yellows = [i for i in yellows if (i >= 22 and i<40)]\n",
    "    \n",
    "    #sum the pixel values\n",
    "    sum_r = np.sum(reds)\n",
    "    sum_g = np.sum(greens)\n",
    "    sum_y = np.sum(yellows)\n",
    "\n",
    "    #calculate area\n",
    "    red_area = len(reds)\n",
    "    green_area = len(greens)\n",
    "    yellow_area = len(yellows)\n",
    "    \n",
    "    #We want average pixels relative to others in the image, \n",
    "    #so we always divide by the largest size of a given pixel color\n",
    "    #it's a way of fairly comparing the frequencies of one color pixel to another\n",
    "    area = np.max((red_area,green_area,yellow_area,1))\n",
    "\n",
    "    red_avg = sum_r/area\n",
    "    green_avg = sum_g/area\n",
    "    yellow_avg = sum_y/area\n",
    "    \n",
    "    ColorAverage = collections.namedtuple('Colors',['red','green','yellow']) \n",
    "\n",
    "    colors = ColorAverage(red_avg,green_avg,yellow_avg) \n",
    "    \n",
    "    return colors"
   ]
  },
  {
   "cell_type": "markdown",
   "metadata": {},
   "source": [
    "**Display our functions**"
   ]
  },
  {
   "cell_type": "code",
   "execution_count": 35,
   "metadata": {},
   "outputs": [
    {
     "name": "stdout",
     "output_type": "stream",
     "text": [
      "Colors(red=136.67415730337078, green=0.0, yellow=0.4943820224719101)\n"
     ]
    },
    {
     "data": {
      "text/plain": [
       "<matplotlib.image.AxesImage at 0x11edecdd8>"
      ]
     },
     "execution_count": 35,
     "metadata": {},
     "output_type": "execute_result"
    },
    {
     "data": {
      "image/png": "[encoded data removed]",
      "text/plain": [
       "<matplotlib.figure.Figure at 0x11ecd85c0>"
      ]
     },
     "metadata": {},
     "output_type": "display_data"
    }
   ],
   "source": [
    "num = 321\n",
    "mask = get_lightbulb_mask(STANDARDIZED_LIST[num][0])\n",
    "print(avg_hue_feature(mask))\n",
    "plt.imshow(get_lightbulb_mask(STANDARDIZED_LIST[num][0]))"
   ]
  },
  {
   "cell_type": "markdown",
   "metadata": {},
   "source": [
    "## Building our Classifier\n",
    "\n",
    "Our classifier is pretty basic, and I found that I don't need to use the treshold value at the moment. However, I left it since it can be useful if I ever want to improve the classifier with ML."
   ]
  },
  {
   "cell_type": "markdown",
   "metadata": {},
   "source": [
    "Our classifiers are extremely simple, but I found them to work very efficiently with our extracted features."
   ]
  },
  {
   "cell_type": "code",
   "execution_count": 39,
   "metadata": {},
   "outputs": [],
   "source": [
    "#The classifier function checks if a given color is the dominant color, then returns boolean\n",
    "def isYellow(y,colors,threshold):\n",
    "    \n",
    "    if(y>colors[0] and y>colors[1]):\n",
    "        return True\n",
    "    return False\n",
    "\n",
    "def isRed(r,colors,threshold):\n",
    "    \n",
    "    if(r>colors[1] and r>colors[2]):\n",
    "        return True\n",
    "    return False\n",
    "\n",
    "def isGreen(g,colors,threshold):\n",
    "    \n",
    "    if(g>colors[0] and g>colors[2]):\n",
    "        return True\n",
    "    return False"
   ]
  },
  {
   "cell_type": "markdown",
   "metadata": {},
   "source": [
    "## Estimating our label"
   ]
  },
  {
   "cell_type": "code",
   "execution_count": 43,
   "metadata": {},
   "outputs": [
    {
     "name": "stdout",
     "output_type": "stream",
     "text": [
      "[1, 0, 0]\n"
     ]
    },
    {
     "data": {
      "text/plain": [
       "<matplotlib.image.AxesImage at 0x11f1ef9e8>"
      ]
     },
     "execution_count": 43,
     "metadata": {},
     "output_type": "execute_result"
    },
    {
     "data": {
      "image/png": "[encoded data removed]",
      "text/plain": [
       "<matplotlib.figure.Figure at 0x11f07def0>"
      ]
     },
     "metadata": {},
     "output_type": "display_data"
    }
   ],
   "source": [
    "#Takes in traffic light RGB image and outputs a one-hot encoder label\n",
    "def estimate_label(rgb_image):\n",
    "    \n",
    "    \n",
    "    predicted_label = [0,0,0] #initialize our one-hot encoder label with unknown\n",
    "    saturation_mask = get_lightbulb_mask(rgb_image)\n",
    "    avgcolors = avg_hue_feature(saturation_mask)\n",
    "\n",
    "    threshold = 100\n",
    "    \n",
    "    if(isRed(avgcolors.red,avgcolors,threshold)):\n",
    "        predicted_label = one_hot_encode(\"red\")\n",
    "    elif(isYellow(avgcolors.yellow,avgcolors,threshold)):\n",
    "        predicted_label = one_hot_encode(\"yellow\")\n",
    "    elif(isGreen(avgcolors.green,avgcolors,threshold)):\n",
    "        predicted_label = one_hot_encode(\"green\")\n",
    "        \n",
    "        \n",
    "    return predicted_label   \n",
    "    \n",
    "num = 113  #good testers 113 114 733 987 123\n",
    "print(estimate_label(STANDARDIZED_LIST[num][0]))\n",
    "plt.imshow(get_lightbulb_mask(STANDARDIZED_LIST[num][0]))"
   ]
  },
  {
   "cell_type": "markdown",
   "metadata": {},
   "source": [
    "# Testing the classifier and determining accuracy\n",
    "\n",
    "The following is boilerplate code from the Udacity Project which they used to test the accuracy of my classifier.\n",
    "\n",
    "**Load our testing data set**"
   ]
  },
  {
   "cell_type": "code",
   "execution_count": 47,
   "metadata": {},
   "outputs": [],
   "source": [
    "# Using the load_dataset function in helpers.py\n",
    "# Load test data\n",
    "TEST_IMAGE_LIST = helpers.load_dataset(IMAGE_DIR_TEST)\n",
    "\n",
    "# Standardize the test data\n",
    "STANDARDIZED_TEST_LIST = standardize(TEST_IMAGE_LIST)\n",
    "\n",
    "# Shuffle the standardized test data\n",
    "random.shuffle(STANDARDIZED_TEST_LIST)"
   ]
  },
  {
   "cell_type": "markdown",
   "metadata": {},
   "source": [
    "**Determining accuracy of the classifier**"
   ]
  },
  {
   "cell_type": "code",
   "execution_count": 46,
   "metadata": {},
   "outputs": [
    {
     "name": "stdout",
     "output_type": "stream",
     "text": [
      "Accuracy: 0.9326599326599326\n",
      "Number of misclassified images = 20 out of 297\n"
     ]
    }
   ],
   "source": [
    "# Constructs a list of misclassified images given a list of test images and their labels\n",
    "# This will throw an AssertionError if labels are not standardized (one-hot encoded)\n",
    "\n",
    "def get_misclassified_images(test_images):\n",
    "    # Track misclassified images by placing them into a list\n",
    "    misclassified_images_labels = []\n",
    "    true_pos = -1\n",
    "    # Iterate through all the test images\n",
    "    # Classify each image and compare to the true label\n",
    "    for image in test_images:\n",
    "        true_pos+=1\n",
    "        # Get true data\n",
    "        im = image[0]\n",
    "        true_label = image[1]\n",
    "        assert(len(true_label) == 3), \"The true_label is not the expected length (3).\"\n",
    "\n",
    "        # Get predicted label from your classifier\n",
    "        predicted_label = estimate_label(im)\n",
    "        assert(len(predicted_label) == 3), \"The predicted_label is not the expected length (3).\"\n",
    "\n",
    "        # Compare true and predicted labels \n",
    "        if(predicted_label != true_label):\n",
    "            # If these labels are not equal, the image has been misclassified\n",
    "            misclassified_images_labels.append((im, predicted_label, true_label))\n",
    "            \n",
    "    # Return the list of misclassified [image, predicted_label, true_label] values\n",
    "    return misclassified_images_labels\n",
    "\n",
    "\n",
    "# Find all misclassified images in a given test set\n",
    "MISCLASSIFIED = get_misclassified_images(STANDARDIZED_TEST_LIST)\n",
    "\n",
    "# Accuracy calculations\n",
    "total = len(STANDARDIZED_TEST_LIST)\n",
    "num_correct = total - len(MISCLASSIFIED)\n",
    "accuracy = num_correct/total\n",
    "\n",
    "print('Accuracy: ' + str(accuracy))\n",
    "print(\"Number of misclassified images = \" + str(len(MISCLASSIFIED)) +' out of '+ str(total))\n",
    "\n"
   ]
  },
  {
   "cell_type": "markdown",
   "metadata": {},
   "source": [
    "\n",
    "## Visualizing misclassified images\n",
    "\n",
    "This can help us determine why our classifier may be failing"
   ]
  },
  {
   "cell_type": "code",
   "execution_count": 54,
   "metadata": {},
   "outputs": [
    {
     "name": "stdout",
     "output_type": "stream",
     "text": [
      "[0, 0, 0]\n"
     ]
    },
    {
     "data": {
      "text/plain": [
       "<matplotlib.image.AxesImage at 0x11f617b00>"
      ]
     },
     "execution_count": 54,
     "metadata": {},
     "output_type": "execute_result"
    },
    {
     "data": {
      "image/png": "[encoded data removed]",
      "text/plain": [
       "<matplotlib.figure.Figure at 0x11f5277f0>"
      ]
     },
     "metadata": {},
     "output_type": "display_data"
    }
   ],
   "source": [
    "# Visualize misclassified example(s)\n",
    "## TODO: Display an image in the `MISCLASSIFIED` list \n",
    "## TODO: Print out its predicted label - to see what the image *was* incorrectly classified as\n",
    "num = 1\n",
    "print(MISCLASSIFIED[num][1])\n",
    "#print(MISCLASSIFIED[num][3])\n",
    "plt.imshow(MISCLASSIFIED[num][0])"
   ]
  },
  {
   "cell_type": "code",
   "execution_count": null,
   "metadata": {},
   "outputs": [],
   "source": []
  }
 ],
 "metadata": {
  "kernelspec": {
   "display_name": "Python 3",
   "language": "python",
   "name": "python3"
  },
  "language_info": {
   "codemirror_mode": {
    "name": "ipython",
    "version": 3
   },
   "file_extension": ".py",
   "mimetype": "text/x-python",
   "name": "python",
   "nbconvert_exporter": "python",
   "pygments_lexer": "ipython3",
   "version": "3.6.4"
  }
 },
 "nbformat": 4,
 "nbformat_minor": 2
}
