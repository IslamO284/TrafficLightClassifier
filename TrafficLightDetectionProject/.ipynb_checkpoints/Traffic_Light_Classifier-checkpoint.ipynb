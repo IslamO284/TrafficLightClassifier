{
 "cells": [
  {
   "cell_type": "markdown",
   "metadata": {},
   "source": [
    "# Traffic Light Classifier\n",
    "---\n",
    "\n",
    "In this project, you’ll use your knowledge of computer vision techniques to build a classifier for images of traffic lights! You'll be given a dataset of traffic light images in which one of three lights is illuminated: red, yellow, or green.\n",
    "\n",
    "In this notebook, you'll pre-process these images, extract features that will help us distinguish the different types of images, and use those features to classify the traffic light images into three classes: red, yellow, or green. The tasks will be broken down into a few sections:\n",
    "\n",
    "1. **Loading and visualizing the data**. \n",
    "      The first step in any classification task is to be familiar with your data; you'll need to load in the images of traffic lights and visualize them!\n",
    "\n",
    "2. **Pre-processing**. \n",
    "    The input images and output labels need to be standardized. This way, you can analyze all the input images using the same classification pipeline, and you know what output to expect when you eventually classify a *new* image.\n",
    "    \n",
    "3. **Feature extraction**. \n",
    "    Next, you'll extract some features from each image that will help distinguish and eventually classify these images.\n",
    "   \n",
    "4. **Classification and visualizing error**. \n",
    "    Finally, you'll write one function that uses your features to classify *any* traffic light image. This function will take in an image and output a label. You'll also be given code to determine the accuracy of your classification model.    \n",
    "    \n",
    "5. **Evaluate your model**.\n",
    "    To pass this project, your classifier must be >90% accurate and never classify any red lights as green; it's likely that you'll need to improve the accuracy of your classifier by changing existing features or adding new features. I'd also encourage you to try to get as close to 100% accuracy as possible!\n",
    "    \n",
    "Here are some sample images from the dataset (from left to right: red, green, and yellow traffic lights):\n",
    "<img src=\"images/all_lights.png\" width=\"50%\" height=\"50%\">\n"
   ]
  },
  {
   "cell_type": "markdown",
   "metadata": {},
   "source": [
    "---\n",
    "### *Here's what you need to know to complete the project:*\n",
    "\n",
    "Some template code has already been provided for you, but you'll need to implement additional code steps to successfully complete this project. Any code that is required to pass this project is marked with **'(IMPLEMENTATION)'** in the header. There are also a couple of questions about your thoughts as you work through this project, which are marked with **'(QUESTION)'** in the header. Make sure to answer all questions and to check your work against the [project rubric](https://review.udacity.com/#!/rubrics/1213/view) to make sure you complete the necessary classification steps!\n",
    "\n",
    "Your project submission will be evaluated based on the code implementations you provide, and on two main classification criteria.\n",
    "Your complete traffic light classifier should have:\n",
    "1. **Greater than 90% accuracy**\n",
    "2. ***Never* classify red lights as green**\n"
   ]
  },
  {
   "cell_type": "markdown",
   "metadata": {},
   "source": [
    "# 1. Loading and Visualizing the Traffic Light Dataset\n",
    "\n",
    "This traffic light dataset consists of 1484 number of color images in 3 categories - red, yellow, and green. As with most human-sourced data, the data is not evenly distributed among the types. There are:\n",
    "* 904 red traffic light images\n",
    "* 536 green traffic light images\n",
    "* 44 yellow traffic light images\n",
    "\n",
    "*Note: All images come from this [MIT self-driving car course](https://selfdrivingcars.mit.edu/) and are licensed under a [Creative Commons Attribution-ShareAlike 4.0 International License](https://creativecommons.org/licenses/by-sa/4.0/).*"
   ]
  },
  {
   "cell_type": "markdown",
   "metadata": {},
   "source": [
    "### Import resources\n",
    "\n",
    "Before you get started on the project code, import the libraries and resources that you'll need."
   ]
  },
  {
   "cell_type": "code",
   "execution_count": 4,
   "metadata": {},
   "outputs": [],
   "source": [
    "import cv2 # computer vision library\n",
    "import helpers # helper functions\n",
    "\n",
    "import random\n",
    "import numpy as np\n",
    "import matplotlib.pyplot as plt\n",
    "import matplotlib.image as mpimg # for loading in images\n",
    "\n",
    "%matplotlib inline"
   ]
  },
  {
   "cell_type": "markdown",
   "metadata": {},
   "source": [
    "## Training and Testing Data\n",
    "\n",
    "All 1484 of the traffic light images are separated into training and testing datasets. \n",
    "\n",
    "* 80% of these images are training images, for you to use as you create a classifier.\n",
    "* 20% are test images, which will be used to test the accuracy of your classifier.\n",
    "* All images are pictures of 3-light traffic lights with one light illuminated.\n",
    "\n",
    "## Define the image directories\n",
    "\n",
    "First, we set some variables to keep track of some where our images are stored:\n",
    "\n",
    "    IMAGE_DIR_TRAINING: the directory where our training image data is stored\n",
    "    IMAGE_DIR_TEST: the directory where our test image data is stored"
   ]
  },
  {
   "cell_type": "code",
   "execution_count": 5,
   "metadata": {},
   "outputs": [],
   "source": [
    "# Image data directories\n",
    "IMAGE_DIR_TRAINING = \"traffic_light_images/training/\"\n",
    "IMAGE_DIR_TEST = \"traffic_light_images/test/\""
   ]
  },
  {
   "cell_type": "markdown",
   "metadata": {},
   "source": [
    "## Load the datasets\n",
    "\n",
    "These first few lines of code will load the training traffic light images and store all of them in a variable, `IMAGE_LIST`. This list contains the images and their associated label (\"red\", \"yellow\", \"green\"). \n",
    "\n",
    "You are encouraged to take a look at the `load_dataset` function in the helpers.py file. This will give you a good idea about how lots of image files can be read in from a directory using the [glob library](https://pymotw.com/2/glob/). The `load_dataset` function takes in the name of an image directory and returns a list of images and their associated labels. \n",
    "\n",
    "For example, the first image-label pair in `IMAGE_LIST` can be accessed by index: \n",
    "``` IMAGE_LIST[0][:]```.\n"
   ]
  },
  {
   "cell_type": "code",
   "execution_count": 6,
   "metadata": {},
   "outputs": [],
   "source": [
    "# Using the load_dataset function in helpers.py\n",
    "# Load training data\n",
    "IMAGE_LIST = helpers.load_dataset(IMAGE_DIR_TRAINING)\n"
   ]
  },
  {
   "cell_type": "markdown",
   "metadata": {},
   "source": [
    "## Visualize the Data\n",
    "\n",
    "The first steps in analyzing any dataset are to 1. load the data and 2. look at the data. Seeing what it looks like will give you an idea of what to look for in the images, what kind of noise or inconsistencies you have to deal with, and so on. This will help you understand the image dataset, and **understanding a dataset is part of making predictions about the data**."
   ]
  },
  {
   "cell_type": "markdown",
   "metadata": {},
   "source": [
    "---\n",
    "### Visualize the input images\n",
    "\n",
    "Visualize and explore the image data! Write code to display an image in `IMAGE_LIST`:\n",
    "* Display the image\n",
    "* Print out the shape of the image \n",
    "* Print out its corresponding label\n",
    "\n",
    "See if you can display at least one of each type of traffic light image – red, green, and yellow — and look at their similarities and differences."
   ]
  },
  {
   "cell_type": "code",
   "execution_count": 24,
   "metadata": {},
   "outputs": [
    {
     "data": {
      "text/plain": [
       "<matplotlib.image.AxesImage at 0x7fe25a2258d0>"
      ]
     },
     "execution_count": 24,
     "metadata": {},
     "output_type": "execute_result"
    },
    {
     "data": {
      "image/png": "[encoded data removed]",
      "text/plain": [
       "<matplotlib.figure.Figure at 0x7fe25a2e14e0>"
      ]
     },
     "metadata": {
      "needs_background": "light"
     },
     "output_type": "display_data"
    }
   ],
   "source": [
    "## TODO: Write code to display an image in IMAGE_LIST (try finding a yellow traffic light!)\n",
    "## TODO: Print out 1. The shape of the image and 2. The image's label\n",
    "\n",
    "# The first image in IMAGE_LIST is displayed below (without information about shape or label)\n",
    "selected_image = IMAGE_LIST[898][0]\n",
    "plt.imshow(selected_image)"
   ]
  },
  {
   "cell_type": "markdown",
   "metadata": {},
   "source": [
    "# 2. Pre-process the Data\n",
    "\n",
    "After loading in each image, you have to standardize the input and output!\n",
    "\n",
    "### Input\n",
    "\n",
    "This means that every input image should be in the same format, of the same size, and so on. We'll be creating features by performing the same analysis on every picture, and for a classification task like this, it's important that **similar images create similar features**! \n",
    "\n",
    "### Output\n",
    "\n",
    "We also need the output to be a label that is easy to read and easy to compare with other labels. It is good practice to convert categorical data like \"red\" and \"green\" to numerical data.\n",
    "\n",
    "A very common classification output is a 1D list that is the length of the number of classes - three in the case of red, yellow, and green lights - with the values 0 or 1 indicating which class a certain image is. For example, since we have three classes (red, yellow, and green), we can make a list with the order: [red value, yellow value, green value]. In general, order does not matter, we choose the order [red value, yellow value, green value] in this case to reflect the position of each light in descending vertical order.\n",
    "\n",
    "A red light should have the  label: [1, 0, 0]. Yellow should be: [0, 1, 0]. Green should be: [0, 0, 1]. These labels are called **one-hot encoded labels**.\n",
    "\n",
    "*(Note: one-hot encoding will be especially important when you work with [machine learning algorithms](https://machinelearningmastery.com/how-to-one-hot-encode-sequence-data-in-python/)).*\n",
    "\n",
    "<img src=\"images/processing_steps.png\" width=\"80%\" height=\"80%\">\n"
   ]
  },
  {
   "cell_type": "markdown",
   "metadata": {},
   "source": [
    "---\n",
    "<a id='task2'></a>\n",
    "### (IMPLEMENTATION): Standardize the input images\n",
    "\n",
    "* Resize each image to the desired input size: 32x32px.\n",
    "* (Optional) You may choose to crop, shift, or rotate the images in this step as well.\n",
    "\n",
    "It's very common to have square input sizes that can be rotated (and remain the same size), and analyzed in smaller, square patches. It's also important to make all your images the same size so that they can be sent through the same pipeline of classification steps!"
   ]
  },
  {
   "cell_type": "code",
   "execution_count": 917,
   "metadata": {},
   "outputs": [],
   "source": [
    "# This function should take in an RGB image and return a new, standardized version\n",
    "def standardize_input(image):\n",
    "    \n",
    "    ## TODO: Resize image and pre-process so that all \"standard\" images are the same size  \n",
    "    standard_im = cv2.resize(image, (32, 32))\n",
    "    # Make a copy of the image to manipulate\n",
    "    image_crop = np.copy(standard_im)\n",
    "\n",
    "    # Define how many pixels to slice off the sides of the original image\n",
    "    row_crop = 3\n",
    "    col_crop = 8\n",
    "\n",
    "    # Using image slicing, subtract the row_crop from top/bottom and col_crop from left/right\n",
    "    image_crop = standard_im[row_crop:-row_crop, col_crop:-col_crop, :]\n",
    "    return image_crop\n",
    "    "
   ]
  },
  {
   "cell_type": "markdown",
   "metadata": {},
   "source": [
    "## Standardize the output\n",
    "\n",
    "With each loaded image, we also specify the expected output. For this, we use **one-hot encoding**.\n",
    "\n",
    "* One-hot encode the labels. To do this, create an array of zeros representing each class of traffic light (red, yellow, green), and set the index of the expected class number to 1. \n",
    "\n",
    "Since we have three classes (red, yellow, and green), we have imposed an order of: [red value, yellow value, green value]. To one-hot encode, say, a yellow light, we would first initialize an array to [0, 0, 0] and change the middle value (the yellow value) to 1: [0, 1, 0].\n"
   ]
  },
  {
   "cell_type": "markdown",
   "metadata": {},
   "source": [
    "---\n",
    "<a id='task3'></a>\n",
    "### (IMPLEMENTATION): Implement one-hot encoding"
   ]
  },
  {
   "cell_type": "code",
   "execution_count": 918,
   "metadata": {},
   "outputs": [],
   "source": [
    "## TODO: One hot encode an image label\n",
    "## Given a label - \"red\", \"green\", or \"yellow\" - return a one-hot encoded label\n",
    "\n",
    "# Examples: \n",
    "# one_hot_encode(\"red\") should return: [1, 0, 0]\n",
    "# one_hot_encode(\"yellow\") should return: [0, 1, 0]\n",
    "# one_hot_encode(\"green\") should return: [0, 0, 1]\n",
    "\n",
    "def one_hot_encode(label):\n",
    "    \n",
    "    ## TODO: Create a one-hot encoded label that works for all classes of traffic lights\n",
    "    one_hot_encoded = [] \n",
    "    if label == \"red\":\n",
    "        one_hot_encoded = [1,0,0]\n",
    "    if label == \"yellow\":\n",
    "        one_hot_encoded = [0,1,0]\n",
    "    if label == \"green\":\n",
    "        one_hot_encoded  =[0,0,1]\n",
    "    \n",
    "    return one_hot_encoded\n"
   ]
  },
  {
   "cell_type": "markdown",
   "metadata": {},
   "source": [
    "### Testing as you Code\n",
    "\n",
    "After programming a function like this, it's a good idea to test it, and see if it produces the expected output. **In general, it's good practice to test code in small, functional pieces, after you write it**. This way, you can make sure that your code is correct as you continue to build a classifier, and you can identify any errors early on so that they don't compound.\n",
    "\n",
    "All test code can be found in the file `test_functions.py`. You are encouraged to look through that code and add your own testing code if you find it useful!\n",
    "\n",
    "One test function you'll find is: `test_one_hot(self, one_hot_function)` which takes in one argument, a one_hot_encode function, and tests its functionality. If your one_hot_label code does not work as expected, this test will print ot an error message that will tell you a bit about why your code failed. Once your code works, this should print out TEST PASSED."
   ]
  },
  {
   "cell_type": "code",
   "execution_count": 919,
   "metadata": {},
   "outputs": [
    {
     "data": {
      "text/markdown": [
       "**<span style=\"color: green;\">TEST PASSED</span>**"
      ],
      "text/plain": [
       "<IPython.core.display.Markdown object>"
      ]
     },
     "metadata": {},
     "output_type": "display_data"
    }
   ],
   "source": [
    "# Importing the tests\n",
    "import test_functions\n",
    "tests = test_functions.Tests()\n",
    "\n",
    "# Test for one_hot_encode function\n",
    "tests.test_one_hot(one_hot_encode)\n"
   ]
  },
  {
   "cell_type": "markdown",
   "metadata": {},
   "source": [
    "## Construct a `STANDARDIZED_LIST` of input images and output labels.\n",
    "\n",
    "This function takes in a list of image-label pairs and outputs a **standardized** list of resized images and one-hot encoded labels.\n",
    "\n",
    "This uses the functions you defined above to standardize the input and output, so those functions must be complete for this standardization to work!\n"
   ]
  },
  {
   "cell_type": "code",
   "execution_count": 920,
   "metadata": {},
   "outputs": [],
   "source": [
    "def standardize(image_list):\n",
    "    \n",
    "    # Empty image data array\n",
    "    standard_list = []\n",
    "\n",
    "    # Iterate through all the image-label pairs\n",
    "    for item in image_list:\n",
    "        image = item[0]\n",
    "        label = item[1]\n",
    "\n",
    "        # Standardize the image\n",
    "        standardized_im = standardize_input(image)\n",
    "\n",
    "        # One-hot encode the label\n",
    "        one_hot_label = one_hot_encode(label)    \n",
    "\n",
    "        # Append the image, and it's one hot encoded label to the full, processed list of image data \n",
    "        standard_list.append((standardized_im, one_hot_label))\n",
    "        \n",
    "    return standard_list\n",
    "\n",
    "# Standardize all training images\n",
    "STANDARDIZED_LIST = standardize(IMAGE_LIST)"
   ]
  },
  {
   "cell_type": "markdown",
   "metadata": {},
   "source": [
    "## Visualize the standardized data\n",
    "\n",
    "Display a standardized image from STANDARDIZED_LIST and compare it with a non-standardized image from IMAGE_LIST. Note that their sizes and appearance are different!"
   ]
  },
  {
   "cell_type": "code",
   "execution_count": 921,
   "metadata": {},
   "outputs": [
    {
     "name": "stdout",
     "output_type": "stream",
     "text": [
      "[1, 0, 0]\n"
     ]
    },
    {
     "data": {
      "text/plain": [
       "<matplotlib.image.AxesImage at 0x7fe24c73de10>"
      ]
     },
     "execution_count": 921,
     "metadata": {},
     "output_type": "execute_result"
    },
    {
     "data": {
      "image/png": "[encoded data removed]",
      "text/plain": [
       "<matplotlib.figure.Figure at 0x7fe24c4d4898>"
      ]
     },
     "metadata": {
      "needs_background": "light"
     },
     "output_type": "display_data"
    }
   ],
   "source": [
    "## TODO: Display a standardized image and its label\n",
    "standardimg = STANDARDIZED_LIST[3][0]\n",
    "standardlabel = STANDARDIZED_LIST[0][1]\n",
    "\n",
    "print(standardlabel)\n",
    "plt.imshow(standardimg)\n"
   ]
  },
  {
   "cell_type": "code",
   "execution_count": 922,
   "metadata": {},
   "outputs": [
    {
     "name": "stdout",
     "output_type": "stream",
     "text": [
      "red\n"
     ]
    },
    {
     "data": {
      "text/plain": [
       "<matplotlib.image.AxesImage at 0x7fe24c33d748>"
      ]
     },
     "execution_count": 922,
     "metadata": {},
     "output_type": "execute_result"
    },
    {
     "data": {
      "image/png": "[encoded data removed]",
      "text/plain": [
       "<matplotlib.figure.Figure at 0x7fe24c3dcfd0>"
      ]
     },
     "metadata": {
      "needs_background": "light"
     },
     "output_type": "display_data"
    }
   ],
   "source": [
    "raw_image = IMAGE_LIST[3][0]\n",
    "raw_image_lbl =  IMAGE_LIST[0][1]\n",
    "print(raw_image_lbl)\n",
    "plt.imshow(raw_image)"
   ]
  },
  {
   "cell_type": "markdown",
   "metadata": {},
   "source": [
    "# 3. Feature Extraction\n",
    "\n",
    "You'll be using what you now about color spaces, shape analysis, and feature construction to create features that help distinguish and classify the three types of traffic light images.\n",
    "\n",
    "You'll be tasked with creating **one feature** at a minimum (with the option to create more). The required feature is **a brightness feature using HSV color space**:\n",
    "\n",
    "1. A brightness feature.\n",
    "    - Using HSV color space, create a feature that helps you identify the 3 different classes of traffic light.\n",
    "    - You'll be asked some questions about what methods you tried to locate this traffic light, so, as you progress through this notebook, always be thinking about your approach: what works and what doesn't?\n",
    "\n",
    "2. (Optional): Create more features! \n",
    "\n",
    "Any more features that you create are up to you and should improve the accuracy of your traffic light classification algorithm! One thing to note is that, to pass this project you must **never classify a red light as a green light** because this creates a serious safety risk for a self-driving car. To avoid this misclassification, you might consider adding another feature that specifically distinguishes between red and green lights.\n",
    "\n",
    "These features will be combined near the end of his notebook to form a complete classification algorithm."
   ]
  },
  {
   "cell_type": "markdown",
   "metadata": {},
   "source": [
    "## Creating a brightness feature \n",
    "\n",
    "There are a number of ways to create a brightness feature that will help you characterize images of traffic lights, and it will be up to you to decide on the best procedure to complete this step. You should visualize and test your code as you go.\n",
    "\n",
    "Pictured below is a sample pipeline for creating a brightness feature (from left to right: standardized image, HSV color-masked image, cropped image, brightness feature):\n",
    "\n",
    "<img src=\"images/feature_ext_steps.png\" width=\"70%\" height=\"70%\">\n"
   ]
  },
  {
   "cell_type": "markdown",
   "metadata": {},
   "source": [
    "## RGB to HSV conversion\n",
    "\n",
    "Below, a test image is converted from RGB to HSV colorspace and each component is displayed in an image."
   ]
  },
  {
   "cell_type": "code",
   "execution_count": 953,
   "metadata": {},
   "outputs": [
    {
     "name": "stdout",
     "output_type": "stream",
     "text": [
      "Label [red, yellow, green]: [0, 1, 0]\n",
      "122\n",
      "41.3774038462\n"
     ]
    },
    {
     "data": {
      "text/plain": [
       "<matplotlib.image.AxesImage at 0x7fe2475b35c0>"
      ]
     },
     "execution_count": 953,
     "metadata": {},
     "output_type": "execute_result"
    },
    {
     "data": {
      "image/png": "[encoded data removed]",
      "text/plain": [
       "<matplotlib.figure.Figure at 0x7fe24764e278>"
      ]
     },
     "metadata": {
      "needs_background": "light"
     },
     "output_type": "display_data"
    }
   ],
   "source": [
    "# Convert and image to HSV colorspace\n",
    "# Visualize the individual color channels\n",
    "\n",
    "image_num = 733\n",
    "test_im = STANDARDIZED_LIST[image_num][0]\n",
    "test_label = STANDARDIZED_LIST[image_num][1]\n",
    "\n",
    "# Convert to HSV\n",
    "hsv = cv2.cvtColor(test_im, cv2.COLOR_RGB2HSV)\n",
    "\n",
    "# Print image label\n",
    "print('Label [red, yellow, green]: ' + str(test_label))\n",
    "\n",
    "# HSV channels\n",
    "h = hsv[:,:,0]\n",
    "s = hsv[:,:,1]\n",
    "v = hsv[:,:,2]\n",
    "\n",
    "print(np.amax(s))\n",
    "print(np.average(s))\n",
    "\n",
    "# Plot the original image and the three channels\n",
    "f, (ax1, ax2, ax3, ax4) = plt.subplots(1, 4, figsize=(20,10))\n",
    "ax1.set_title('Standardized image')\n",
    "ax1.imshow(test_im)\n",
    "ax2.set_title('H channel')\n",
    "ax2.imshow(h, cmap='gray')\n",
    "ax3.set_title('S channel')\n",
    "ax3.imshow(s, cmap='gray')\n",
    "ax4.set_title('V channel')\n",
    "ax4.imshow(v, cmap='gray')\n"
   ]
  },
  {
   "cell_type": "code",
   "execution_count": 945,
   "metadata": {},
   "outputs": [
    {
     "name": "stdout",
     "output_type": "stream",
     "text": [
      "Label [red, yellow, green]: [1, 0, 0]\n",
      "99\n",
      "72.3966346154\n"
     ]
    },
    {
     "data": {
      "text/plain": [
       "<matplotlib.image.AxesImage at 0x7fe2479bc048>"
      ]
     },
     "execution_count": 945,
     "metadata": {},
     "output_type": "execute_result"
    },
    {
     "data": {
      "image/png": "[encoded data removed]",
      "text/plain": [
       "<matplotlib.figure.Figure at 0x7fe247a55550>"
      ]
     },
     "metadata": {
      "needs_background": "light"
     },
     "output_type": "display_data"
    }
   ],
   "source": [
    "image_num = 681\n",
    "test_im = STANDARDIZED_LIST[image_num][0]\n",
    "test_label = STANDARDIZED_LIST[image_num][1]\n",
    "\n",
    "# Convert to HSV\n",
    "hsv = cv2.cvtColor(test_im, cv2.COLOR_RGB2HSV)\n",
    "\n",
    "# Print image label\n",
    "print('Label [red, yellow, green]: ' + str(test_label))\n",
    "\n",
    "# HSV channels\n",
    "h = hsv[:,:,0]\n",
    "s = hsv[:,:,1]\n",
    "v = hsv[:,:,2]\n",
    "\n",
    "print(np.amax(s))\n",
    "print(np.average(s))\n",
    "\n",
    "# Plot the original image and the three channels\n",
    "f, (ax1, ax2, ax3, ax4) = plt.subplots(1, 4, figsize=(20,10))\n",
    "ax1.set_title('Standardized image')\n",
    "ax1.imshow(test_im)\n",
    "ax2.set_title('H channel')\n",
    "ax2.imshow(h, cmap='gray')\n",
    "ax3.set_title('S channel')\n",
    "ax3.imshow(s, cmap='gray')\n",
    "ax4.set_title('V channel')\n",
    "ax4.imshow(v, cmap='gray')"
   ]
  },
  {
   "cell_type": "markdown",
   "metadata": {},
   "source": [
    "---\n",
    "<a id='task7'></a>\n",
    "### (IMPLEMENTATION): Create a brightness feature that uses HSV color space\n",
    "\n",
    "Write a function that takes in an RGB image and returns a 1D feature vector and/or single value that will help classify an image of a traffic light. The only requirement is that this function should apply an HSV colorspace transformation, the rest is up to you. \n",
    "\n",
    "From this feature, you should be able to estimate an image's label and classify it as either a red, green, or yellow traffic light. You may also define helper functions if they simplify your code."
   ]
  },
  {
   "cell_type": "code",
   "execution_count": 954,
   "metadata": {},
   "outputs": [],
   "source": [
    "## TODO: Create a brightness feature that takes in an RGB image and outputs a feature vector and/or value\n",
    "## This feature should use HSV colorspace values\n",
    "def avg_brightness(rgb_image):\n",
    "    \n",
    "    ## TODO: Convert image to HSV color space\n",
    "    hsv = cv2.cvtColor(rgb_image, cv2.COLOR_RGB2HSV)\n",
    "\n",
    "    # Add up all the pixel values in the V channel\n",
    "    sum_brightness = np.sum(hsv[:,:,2])\n",
    "    ## TODO: Create and return a feature value and/or vector\n",
    "    area = 32*32\n",
    "    avg = sum_brightness/area\n",
    "    \n",
    "    return avg\n"
   ]
  },
  {
   "cell_type": "markdown",
   "metadata": {
    "collapsed": true
   },
   "source": [
    "## (Optional) Create more features to help accurately label the traffic light images"
   ]
  },
  {
   "cell_type": "code",
   "execution_count": 963,
   "metadata": {},
   "outputs": [
    {
     "name": "stdout",
     "output_type": "stream",
     "text": [
      "Colors(red=143.88571428571427, green=0.0, yellow=0.0)\n"
     ]
    },
    {
     "data": {
      "text/plain": [
       "<matplotlib.image.AxesImage at 0x7fe24727bb38>"
      ]
     },
     "execution_count": 963,
     "metadata": {},
     "output_type": "execute_result"
    },
    {
     "data": {
      "image/png": "[encoded data removed]",
      "text/plain": [
       "<matplotlib.figure.Figure at 0x7fe24724c5f8>"
      ]
     },
     "metadata": {
      "needs_background": "light"
     },
     "output_type": "display_data"
    }
   ],
   "source": [
    "# (Optional) Add more image analysis and create more features\n",
    "import collections \n",
    "\n",
    "    \n",
    "#the hue feature will be cross referenced with our saturation mask to see what color our bulb is\n",
    "def avg_hsv_feature(rgb_masked_image):\n",
    "    hsv = cv2.cvtColor(rgb_masked_image, cv2.COLOR_RGB2HSV)\n",
    "    np.set_printoptions(threshold=np.inf)\n",
    "    flattenedhsv = hsv[:,:,0].flatten()\n",
    "    #print(flattenedhsv)\n",
    "\n",
    "    reds = flattenedhsv\n",
    "    reds = [i for i in reds if (i > 0 and i<22) or (i>135 and i<=180)]\n",
    "    greens = flattenedhsv\n",
    "    greens = [i for i in greens if (i >= 40 and i<96)]\n",
    "    yellows = flattenedhsv\n",
    "    yellows = [i for i in yellows if (i >= 22 and i<40)]\n",
    "    \n",
    "\n",
    "    \n",
    "    #sum the pixel values\n",
    "    sum_r = np.sum(reds)\n",
    "    sum_g = np.sum(greens)\n",
    "    sum_y = np.sum(yellows)\n",
    "\n",
    "    \n",
    "    #calculate area\n",
    "    red_area = len(reds)\n",
    "    green_area = len(greens)\n",
    "    yellow_area = len(yellows)\n",
    "    \n",
    "    area = np.max((red_area,green_area,yellow_area,1)) #prevent div by zero\n",
    "\n",
    "    red_avg = sum_r/area\n",
    "    green_avg = sum_g/area\n",
    "    yellow_avg = sum_y/area\n",
    "    \n",
    "    ColorAverage = collections.namedtuple('Colors',['red','green','yellow']) \n",
    "\n",
    "    colors = ColorAverage(red_avg,green_avg,yellow_avg) \n",
    "    \n",
    "    return colors\n",
    "\n",
    "#the saturation feature can help us with masking our light bulb\n",
    "def get_saturation_mask(rgb_image):\n",
    "    hsv = cv2.cvtColor(rgb_image, cv2.COLOR_RGB2HSV)\n",
    "\n",
    "    # Define our color selection boundaries in hsv values\n",
    "    lower_sat = np.array([0,40,150]) \n",
    "    upper_sat = np.array([255,255,255])\n",
    "    mask = cv2.inRange(hsv, lower_sat, upper_sat)\n",
    "    # Mask the image to let the car show through\n",
    "    masked_image = np.copy(rgb_image)\n",
    "\n",
    "    masked_image[mask == 0] = [0, 0, 0]\n",
    "\n",
    "    # Display it!\n",
    "    return masked_image\n",
    "    \n",
    "def get_saturation(rgb_image):\n",
    "    hsv = cv2.cvtColor(rgb_image, cv2.COLOR_RGB2HSV)\n",
    "    \n",
    "    sat_image = hsv[:,:,1]\n",
    "\n",
    "    # Display it!\n",
    "    plt.imshow(sat_image)\n",
    "    \n",
    "num = 681\n",
    "mask = get_saturation_mask(STANDARDIZED_LIST[num][0])\n",
    "print(avg_hsv_feature(mask))\n",
    "plt.imshow(get_saturation_mask(STANDARDIZED_LIST[num][0]))"
   ]
  },
  {
   "cell_type": "markdown",
   "metadata": {},
   "source": [
    "## (QUESTION 1): How do the features you made help you distinguish between the 3 classes of traffic light images?"
   ]
  },
  {
   "cell_type": "markdown",
   "metadata": {},
   "source": [
    "**Answer:**\n",
    "Write your answer in this cell.\n",
    "\n",
    "The saturation feature can help us with masking our enabled lightbulb, while the hue feature can help us make sure we have the correct color."
   ]
  },
  {
   "cell_type": "markdown",
   "metadata": {
    "collapsed": true
   },
   "source": [
    "# 4. Classification and Visualizing Error\n",
    "\n",
    "Using all of your features, write a function that takes in an RGB image and, using your extracted features, outputs whether a light is red, green or yellow as a one-hot encoded label. This classification function should be able to classify any image of a traffic light!\n",
    "\n",
    "You are encouraged to write any helper functions or visualization code that you may need, but for testing the accuracy, make sure that this `estimate_label` function returns a one-hot encoded label."
   ]
  },
  {
   "cell_type": "markdown",
   "metadata": {},
   "source": [
    "---\n",
    "<a id='task8'></a>\n",
    "### (IMPLEMENTATION): Build a complete classifier "
   ]
  },
  {
   "cell_type": "code",
   "execution_count": 964,
   "metadata": {},
   "outputs": [
    {
     "name": "stdout",
     "output_type": "stream",
     "text": [
      "avg color: Colors(red=143.88571428571427, green=0.0, yellow=0.0)\n",
      "[1, 0, 0]\n"
     ]
    },
    {
     "data": {
      "text/plain": [
       "<matplotlib.image.AxesImage at 0x7fe2471d16a0>"
      ]
     },
     "execution_count": 964,
     "metadata": {},
     "output_type": "execute_result"
    },
    {
     "data": {
      "image/png": "[encoded data removed]",
      "text/plain": [
       "<matplotlib.figure.Figure at 0x7fe24721ce10>"
      ]
     },
     "metadata": {
      "needs_background": "light"
     },
     "output_type": "display_data"
    }
   ],
   "source": [
    "def isYellow(y,colors,threshold):\n",
    "    \n",
    "    \n",
    "    if(y>colors[0] and y>colors[1]):\n",
    "        return True\n",
    "    return False\n",
    "\n",
    "def isRed(r,colors,threshold):\n",
    "    \n",
    "    if(r>colors[1] and r>colors[2]):\n",
    "        return True\n",
    "    return False\n",
    "\n",
    "def isGreen(g,colors,threshold):\n",
    "    \n",
    "    if(g>colors[0] and g>colors[2]):\n",
    "        return True\n",
    "    return False\n",
    "\n",
    "# This function should take in RGB image input\n",
    "# Analyze that image using your feature creation code and output a one-hot encoded label\n",
    "def estimate_label(rgb_image):\n",
    "    \n",
    "    ## TODO: Extract feature(s) from the RGB image and use those features to\n",
    "    ## classify the image and output a one-hot encoded label\n",
    "    \n",
    "    predicted_label = [0,0,0]\n",
    "    saturation_mask = get_saturation_mask(rgb_image)\n",
    "    avgcolors = avg_hsv_feature(saturation_mask)\n",
    "    \n",
    "    \n",
    "    #print('avg brightness: ' + str(avgbrightness))\n",
    "    print('avg color: ' + str(avgcolors))\n",
    "\n",
    "    threshold = 100\n",
    "    \n",
    "    if(isRed(avgcolors.red,avgcolors,threshold)):\n",
    "        predicted_label = one_hot_encode(\"red\")\n",
    "    elif(isYellow(avgcolors.yellow,avgcolors,threshold)):\n",
    "        predicted_label = one_hot_encode(\"yellow\")\n",
    "    elif(isGreen(avgcolors.green,avgcolors,threshold)):\n",
    "        predicted_label = one_hot_encode(\"green\")\n",
    "        \n",
    "        \n",
    "    return predicted_label   \n",
    "    \n",
    "num = 681  #good testers 113 114 733 987\n",
    "print(estimate_label(STANDARDIZED_LIST[num][0]))\n",
    "plt.imshow(get_saturation_mask(STANDARDIZED_LIST[num][0]))"
   ]
  },
  {
   "cell_type": "markdown",
   "metadata": {},
   "source": [
    "## Testing the classifier\n",
    "\n",
    "Here is where we test your classification algorithm using our test set of data that we set aside at the beginning of the notebook! This project will be complete once you've pogrammed a \"good\" classifier.\n",
    "\n",
    "A \"good\" classifier in this case should meet the following criteria (and once it does, feel free to submit your project):\n",
    "1. Get above 90% classification accuracy.\n",
    "2. Never classify a red light as a green light. \n",
    "\n",
    "### Test dataset\n",
    "\n",
    "Below, we load in the test dataset, standardize it using the `standardize` function you defined above, and then **shuffle** it; this ensures that order will not play a role in testing accuracy.\n"
   ]
  },
  {
   "cell_type": "code",
   "execution_count": 965,
   "metadata": {},
   "outputs": [],
   "source": [
    "# Using the load_dataset function in helpers.py\n",
    "# Load test data\n",
    "TEST_IMAGE_LIST = helpers.load_dataset(IMAGE_DIR_TEST)\n",
    "\n",
    "# Standardize the test data\n",
    "STANDARDIZED_TEST_LIST = standardize(TEST_IMAGE_LIST)\n",
    "\n",
    "# Shuffle the standardized test data\n",
    "random.shuffle(STANDARDIZED_TEST_LIST)"
   ]
  },
  {
   "cell_type": "markdown",
   "metadata": {},
   "source": [
    "## Determine the Accuracy\n",
    "\n",
    "Compare the output of your classification algorithm (a.k.a. your \"model\") with the true labels and determine the accuracy.\n",
    "\n",
    "This code stores all the misclassified images, their predicted labels, and their true labels, in a list called `MISCLASSIFIED`. This code is used for testing and *should not be changed*."
   ]
  },
  {
   "cell_type": "code",
   "execution_count": 967,
   "metadata": {},
   "outputs": [
    {
     "name": "stdout",
     "output_type": "stream",
     "text": [
      "avg color: Colors(red=170.59459459459458, green=0.0, yellow=0.0)\n",
      "avg color: Colors(red=173.34999999999999, green=0.0, yellow=0.0)\n",
      "avg color: Colors(red=0.0, green=90.67647058823529, yellow=0.0)\n",
      "avg color: Colors(red=162.25714285714287, green=0.0, yellow=0.0)\n",
      "avg color: Colors(red=0.0, green=0.0, yellow=0.0)\n",
      "avg color: Colors(red=111.34426229508196, green=0.0, yellow=0.0)\n",
      "avg color: Colors(red=0.0, green=89.666666666666671, yellow=0.0)\n",
      "avg color: Colors(red=171.2421052631579, green=0.0, yellow=0.0)\n",
      "avg color: Colors(red=0.0, green=88.6875, yellow=0.0)\n",
      "avg color: Colors(red=0.0, green=93.75, yellow=0.0)\n",
      "avg color: Colors(red=176.64406779661016, green=0.0, yellow=0.0)\n",
      "avg color: Colors(red=0.0, green=86.6875, yellow=0.0)\n",
      "avg color: Colors(red=173.20183486238531, green=0.0, yellow=0.0)\n",
      "avg color: Colors(red=0.0, green=88.218181818181819, yellow=0.0)\n",
      "avg color: Colors(red=148.26315789473685, green=0.0, yellow=0.0)\n",
      "avg color: Colors(red=0.0, green=89.102564102564102, yellow=0.0)\n",
      "avg color: Colors(red=0.0, green=89.818181818181813, yellow=0.0)\n",
      "avg color: Colors(red=0.0, green=85.949152542372886, yellow=0.0)\n",
      "avg color: Colors(red=0.0, green=89.212121212121218, yellow=0.0)\n",
      "avg color: Colors(red=0.0, green=92.0, yellow=0.0)\n",
      "avg color: Colors(red=161.88, green=0.0, yellow=0.0)\n",
      "avg color: Colors(red=146.3896103896104, green=0.0, yellow=0.0)\n",
      "avg color: Colors(red=152.12727272727273, green=0.0, yellow=0.0)\n",
      "avg color: Colors(red=173.19999999999999, green=0.0, yellow=0.0)\n",
      "avg color: Colors(red=170.75, green=0.0, yellow=0.0)\n",
      "avg color: Colors(red=157.93181818181819, green=0.0, yellow=0.0)\n",
      "avg color: Colors(red=159.30434782608697, green=0.0, yellow=0.0)\n",
      "avg color: Colors(red=0.0, green=87.388059701492537, yellow=0.0)\n",
      "avg color: Colors(red=11.5, green=0.0, yellow=0.0)\n",
      "avg color: Colors(red=0.0, green=91.566666666666663, yellow=0.0)\n",
      "avg color: Colors(red=112.87671232876713, green=0.0, yellow=0.0)\n",
      "avg color: Colors(red=167.69090909090909, green=0.0, yellow=0.0)\n",
      "avg color: Colors(red=118.55555555555556, green=0.0, yellow=0.0)\n",
      "avg color: Colors(red=176.62790697674419, green=0.0, yellow=0.0)\n",
      "avg color: Colors(red=154.74545454545455, green=0.0, yellow=0.0)\n",
      "avg color: Colors(red=175.22857142857143, green=0.0, yellow=0.0)\n",
      "avg color: Colors(red=173.14285714285714, green=0.0, yellow=0.0)\n",
      "avg color: Colors(red=0.0, green=85.461538461538467, yellow=0.0)\n",
      "avg color: Colors(red=0.0, green=92.583333333333329, yellow=0.0)\n",
      "avg color: Colors(red=0.0, green=0.0, yellow=0.0)\n",
      "avg color: Colors(red=176.31343283582089, green=0.0, yellow=0.0)\n",
      "avg color: Colors(red=168.7123287671233, green=0.0, yellow=0.0)\n",
      "avg color: Colors(red=169.07692307692307, green=0.0, yellow=0.0)\n",
      "avg color: Colors(red=0.0, green=91.5, yellow=0.0)\n",
      "avg color: Colors(red=163.1764705882353, green=0.0, yellow=0.0)\n",
      "avg color: Colors(red=0.0, green=79.777777777777771, yellow=0.0)\n",
      "avg color: Colors(red=173.7659574468085, green=0.0, yellow=0.0)\n",
      "avg color: Colors(red=0.0, green=88.924999999999997, yellow=0.0)\n",
      "avg color: Colors(red=105.91071428571429, green=0.0, yellow=0.0)\n",
      "avg color: Colors(red=170.36666666666667, green=0.0, yellow=0.0)\n",
      "avg color: Colors(red=0.0, green=0.0, yellow=0.0)\n",
      "avg color: Colors(red=137.12244897959184, green=0.0, yellow=0.0)\n",
      "avg color: Colors(red=124.75, green=0.0, yellow=0.0)\n",
      "avg color: Colors(red=174.35877862595419, green=0.0, yellow=0.0)\n",
      "avg color: Colors(red=162.08333333333334, green=0.0, yellow=0.0)\n",
      "avg color: Colors(red=0.0, green=85.132075471698116, yellow=0.0)\n",
      "avg color: Colors(red=170.70588235294119, green=0.0, yellow=0.0)\n",
      "avg color: Colors(red=0.0, green=0.0, yellow=0.0)\n",
      "avg color: Colors(red=98.92307692307692, green=0.0, yellow=4.092307692307692)\n",
      "avg color: Colors(red=134.55339805825244, green=0.0, yellow=0.0)\n",
      "avg color: Colors(red=0.0, green=88.615384615384613, yellow=0.0)\n",
      "avg color: Colors(red=163.75735294117646, green=0.0, yellow=0.0)\n",
      "avg color: Colors(red=0.0, green=91.0, yellow=0.0)\n",
      "avg color: Colors(red=160.42666666666668, green=0.0, yellow=0.0)\n",
      "avg color: Colors(red=0.0, green=90.860759493670884, yellow=0.0)\n",
      "avg color: Colors(red=151.27692307692308, green=0.0, yellow=0.0)\n",
      "avg color: Colors(red=171.12121212121212, green=0.0, yellow=0.0)\n",
      "avg color: Colors(red=148.08641975308643, green=0.0, yellow=0.0)\n",
      "avg color: Colors(red=0.0, green=84.571428571428569, yellow=0.0)\n",
      "avg color: Colors(red=171.35211267605635, green=0.0, yellow=0.0)\n",
      "avg color: Colors(red=169.97435897435898, green=0.0, yellow=0.0)\n",
      "avg color: Colors(red=96.870370370370367, green=0.0, yellow=0.0)\n",
      "avg color: Colors(red=125.61904761904762, green=0.0, yellow=0.0)\n",
      "avg color: Colors(red=168.77272727272728, green=0.0, yellow=0.0)\n",
      "avg color: Colors(red=43.029411764705884, green=0.0, yellow=5.6470588235294121)\n",
      "avg color: Colors(red=0.0, green=90.666666666666671, yellow=0.0)\n",
      "avg color: Colors(red=173.390625, green=0.0, yellow=0.0)\n",
      "avg color: Colors(red=0.0, green=95.0, yellow=0.0)\n",
      "avg color: Colors(red=170.12048192771084, green=0.0, yellow=0.0)\n",
      "avg color: Colors(red=12.388888888888889, green=0.0, yellow=0.0)\n",
      "avg color: Colors(red=139.20270270270271, green=0.0, yellow=0.0)\n",
      "avg color: Colors(red=112.84126984126983, green=0.0, yellow=0.0)\n",
      "avg color: Colors(red=170.38333333333333, green=0.0, yellow=0.0)\n",
      "avg color: Colors(red=171.80303030303031, green=0.0, yellow=0.0)\n",
      "avg color: Colors(red=152.48780487804879, green=0.0, yellow=0.0)\n",
      "avg color: Colors(red=0.0, green=89.138461538461542, yellow=0.0)\n",
      "avg color: Colors(red=171.09090909090909, green=0.0, yellow=0.0)\n",
      "avg color: Colors(red=0.0, green=91.911392405063296, yellow=0.0)\n",
      "avg color: Colors(red=0.0, green=82.761904761904759, yellow=0.0)\n",
      "avg color: Colors(red=122.01369863013699, green=0.0, yellow=0.0)\n",
      "avg color: Colors(red=0.0, green=88.541666666666671, yellow=0.0)\n",
      "avg color: Colors(red=0.0, green=91.079999999999998, yellow=0.0)\n",
      "avg color: Colors(red=0.0, green=90.166666666666671, yellow=0.0)\n",
      "avg color: Colors(red=173.87931034482759, green=0.0, yellow=0.0)\n",
      "avg color: Colors(red=0.0, green=87.824561403508767, yellow=0.0)\n",
      "avg color: Colors(red=165.32786885245901, green=0.0, yellow=0.0)\n",
      "avg color: Colors(red=144.29850746268656, green=0.0, yellow=0.0)\n",
      "avg color: Colors(red=173.1320754716981, green=0.0, yellow=0.0)\n",
      "avg color: Colors(red=0.0, green=89.561797752808985, yellow=0.0)\n",
      "avg color: Colors(red=175.45454545454547, green=0.0, yellow=0.0)\n",
      "avg color: Colors(red=0.0, green=90.25, yellow=0.0)\n",
      "avg color: Colors(red=0.0, green=87.911764705882348, yellow=0.0)\n",
      "avg color: Colors(red=153.8955223880597, green=0.0, yellow=0.0)\n",
      "avg color: Colors(red=162.25806451612902, green=0.0, yellow=0.0)\n",
      "avg color: Colors(red=0.0, green=89.551724137931032, yellow=0.0)\n",
      "avg color: Colors(red=0.0, green=0.0, yellow=0.0)\n",
      "avg color: Colors(red=12.506849315068493, green=0.0, yellow=3.3424657534246576)\n",
      "avg color: Colors(red=0.0, green=89.959999999999994, yellow=0.0)\n",
      "avg color: Colors(red=150.03260869565219, green=0.0, yellow=0.0)\n",
      "avg color: Colors(red=171.03658536585365, green=0.0, yellow=0.0)\n",
      "avg color: Colors(red=170.69090909090909, green=0.0, yellow=0.0)\n",
      "avg color: Colors(red=0.0, green=0.0, yellow=0.0)\n",
      "avg color: Colors(red=0.0, green=89.897435897435898, yellow=0.0)\n",
      "avg color: Colors(red=0.0, green=92.916666666666671, yellow=0.0)\n",
      "avg color: Colors(red=115.78333333333333, green=0.0, yellow=0.0)\n",
      "avg color: Colors(red=0.0, green=92.302325581395351, yellow=0.0)\n",
      "avg color: Colors(red=168.59999999999999, green=0.0, yellow=0.0)\n",
      "avg color: Colors(red=170.24285714285713, green=0.0, yellow=0.0)\n",
      "avg color: Colors(red=0.0, green=92.34615384615384, yellow=0.0)\n",
      "avg color: Colors(red=144.64634146341464, green=0.0, yellow=0.0)\n",
      "avg color: Colors(red=134.47572815533979, green=0.0, yellow=0.0)\n",
      "avg color: Colors(red=149.43564356435644, green=0.0, yellow=0.0)\n",
      "avg color: Colors(red=161.62790697674419, green=0.0, yellow=0.0)\n",
      "avg color: Colors(red=0.0, green=89.370967741935488, yellow=0.0)\n",
      "avg color: Colors(red=0.0, green=0.0, yellow=0.0)\n",
      "avg color: Colors(red=164.76388888888889, green=0.0, yellow=0.0)\n",
      "avg color: Colors(red=117.08955223880596, green=0.0, yellow=0.0)\n",
      "avg color: Colors(red=134.83529411764707, green=0.0, yellow=0.0)\n",
      "avg color: Colors(red=0.0, green=88.484375, yellow=0.0)\n",
      "avg color: Colors(red=166.92682926829269, green=0.0, yellow=0.0)\n",
      "avg color: Colors(red=164.98684210526315, green=0.0, yellow=0.0)\n",
      "avg color: Colors(red=165.4814814814815, green=0.0, yellow=0.0)\n",
      "avg color: Colors(red=160.67213114754099, green=0.0, yellow=0.0)\n",
      "avg color: Colors(red=170.61702127659575, green=0.0, yellow=0.0)\n",
      "avg color: Colors(red=0.0, green=89.340425531914889, yellow=0.0)\n",
      "avg color: Colors(red=126.11827956989248, green=0.0, yellow=0.0)\n",
      "avg color: Colors(red=156.89655172413794, green=0.0, yellow=0.0)\n",
      "avg color: Colors(red=0.0, green=0.0, yellow=28.298507462686569)\n",
      "avg color: Colors(red=0.0, green=92.268292682926827, yellow=0.0)\n",
      "avg color: Colors(red=154.8901098901099, green=0.0, yellow=0.0)\n",
      "avg color: Colors(red=0.0, green=83.36363636363636, yellow=0.0)\n",
      "avg color: Colors(red=0.0, green=90.666666666666671, yellow=0.0)\n",
      "avg color: Colors(red=125.12631578947368, green=0.0, yellow=0.0)\n",
      "avg color: Colors(red=154.25, green=0.0, yellow=0.0)\n",
      "avg color: Colors(red=0.0, green=87.099999999999994, yellow=0.0)\n",
      "avg color: Colors(red=167.63793103448276, green=0.0, yellow=0.0)\n",
      "avg color: Colors(red=141.16455696202533, green=1.0506329113924051, yellow=1.6075949367088607)\n",
      "avg color: Colors(red=0.0, green=87.233333333333334, yellow=0.0)\n",
      "avg color: Colors(red=155.85135135135135, green=0.0, yellow=0.0)\n",
      "avg color: Colors(red=171.77272727272728, green=0.0, yellow=0.0)\n",
      "avg color: Colors(red=170.55913978494624, green=0.0, yellow=0.0)\n",
      "avg color: Colors(red=139.82222222222222, green=0.0, yellow=0.0)\n",
      "avg color: Colors(red=143.703125, green=0.0, yellow=0.0)\n",
      "avg color: Colors(red=0.0, green=87.74683544303798, yellow=0.0)\n",
      "avg color: Colors(red=171.68367346938774, green=0.0, yellow=0.0)\n",
      "avg color: Colors(red=173.52380952380952, green=0.0, yellow=0.0)\n",
      "avg color: Colors(red=153.58750000000001, green=0.0, yellow=0.0)\n",
      "avg color: Colors(red=0.0, green=0.0, yellow=0.0)\n",
      "avg color: Colors(red=155.81, green=0.0, yellow=0.0)\n",
      "avg color: Colors(red=172.33333333333334, green=0.0, yellow=0.0)\n",
      "avg color: Colors(red=157.19999999999999, green=0.0, yellow=0.0)\n",
      "avg color: Colors(red=0.0, green=88.625, yellow=0.0)\n",
      "avg color: Colors(red=158.75925925925927, green=0.0, yellow=0.0)\n",
      "avg color: Colors(red=170.2340425531915, green=0.0, yellow=0.0)\n",
      "avg color: Colors(red=0.0, green=88.722222222222229, yellow=0.0)\n",
      "avg color: Colors(red=0.0, green=92.442857142857136, yellow=0.0)\n",
      "avg color: Colors(red=171.48979591836735, green=0.0, yellow=0.0)\n",
      "avg color: Colors(red=173.52380952380952, green=0.0, yellow=0.0)\n"
     ]
    },
    {
     "name": "stdout",
     "output_type": "stream",
     "text": [
      "avg color: Colors(red=170.75, green=0.0, yellow=0.0)\n",
      "avg color: Colors(red=157.01724137931035, green=0.0, yellow=0.0)\n",
      "avg color: Colors(red=169.5, green=0.0, yellow=0.0)\n",
      "avg color: Colors(red=110.48684210526316, green=0.0, yellow=4.2236842105263159)\n",
      "avg color: Colors(red=9.4600000000000009, green=0.0, yellow=26.780000000000001)\n",
      "avg color: Colors(red=173.30434782608697, green=0.0, yellow=0.0)\n",
      "avg color: Colors(red=11.986666666666666, green=0.0, yellow=0.30666666666666664)\n",
      "avg color: Colors(red=170.03703703703704, green=0.0, yellow=0.0)\n",
      "avg color: Colors(red=0.0, green=90.046875, yellow=0.0)\n",
      "avg color: Colors(red=0.0, green=87.138461538461542, yellow=0.0)\n",
      "avg color: Colors(red=0.0, green=0.0, yellow=0.0)\n",
      "avg color: Colors(red=170.22689075630251, green=0.0, yellow=0.0)\n",
      "avg color: Colors(red=165.96202531645571, green=0.0, yellow=0.0)\n",
      "avg color: Colors(red=170.39603960396039, green=0.0, yellow=0.0)\n",
      "avg color: Colors(red=152.65094339622641, green=0.0, yellow=0.0)\n",
      "avg color: Colors(red=0.0, green=89.074626865671647, yellow=0.0)\n",
      "avg color: Colors(red=171.46511627906978, green=0.0, yellow=0.0)\n",
      "avg color: Colors(red=172.96296296296296, green=0.0, yellow=0.0)\n",
      "avg color: Colors(red=12.666666666666666, green=0.0, yellow=4.791666666666667)\n",
      "avg color: Colors(red=0.0, green=93.181818181818187, yellow=0.0)\n",
      "avg color: Colors(red=0.0, green=92.368421052631575, yellow=0.0)\n",
      "avg color: Colors(red=172.38749999999999, green=0.0, yellow=0.0)\n",
      "avg color: Colors(red=159.57627118644066, green=0.0, yellow=0.0)\n",
      "avg color: Colors(red=0.0, green=91.471910112359552, yellow=0.0)\n",
      "avg color: Colors(red=132.57471264367817, green=0.0, yellow=0.0)\n",
      "avg color: Colors(red=115.1076923076923, green=0.0, yellow=0.0)\n",
      "avg color: Colors(red=140.41095890410958, green=0.0, yellow=0.0)\n",
      "avg color: Colors(red=0.0, green=88.86666666666666, yellow=0.0)\n",
      "avg color: Colors(red=164.81818181818181, green=0.0, yellow=0.0)\n",
      "avg color: Colors(red=174.18840579710144, green=0.0, yellow=0.0)\n",
      "avg color: Colors(red=166.46236559139786, green=0.0, yellow=0.0)\n",
      "avg color: Colors(red=13.3125, green=0.0, yellow=1.3958333333333333)\n",
      "avg color: Colors(red=0.0, green=89.652173913043484, yellow=0.0)\n",
      "avg color: Colors(red=8.4285714285714288, green=0.0, yellow=23.839285714285715)\n",
      "avg color: Colors(red=160.43678160919541, green=0.0, yellow=0.0)\n",
      "avg color: Colors(red=169.29166666666666, green=0.0, yellow=0.0)\n",
      "avg color: Colors(red=174.73563218390805, green=0.0, yellow=0.0)\n",
      "avg color: Colors(red=0.0, green=90.92307692307692, yellow=0.0)\n",
      "avg color: Colors(red=172.27884615384616, green=0.0, yellow=0.0)\n",
      "avg color: Colors(red=175.48333333333332, green=0.0, yellow=0.0)\n",
      "avg color: Colors(red=173.1868131868132, green=0.0, yellow=0.0)\n",
      "avg color: Colors(red=173.15686274509804, green=0.0, yellow=0.0)\n",
      "avg color: Colors(red=0.0, green=90.882352941176464, yellow=0.0)\n",
      "avg color: Colors(red=130.41666666666666, green=0.0, yellow=0.88541666666666663)\n",
      "avg color: Colors(red=0.0, green=92.639344262295083, yellow=0.0)\n",
      "avg color: Colors(red=175.22222222222223, green=0.0, yellow=0.0)\n",
      "avg color: Colors(red=105.54166666666667, green=0.0, yellow=1.1041666666666667)\n",
      "avg color: Colors(red=171.21518987341773, green=0.0, yellow=0.0)\n",
      "avg color: Colors(red=0.0, green=89.769230769230774, yellow=0.0)\n",
      "avg color: Colors(red=117.81159420289855, green=0.0, yellow=0.0)\n",
      "avg color: Colors(red=0.0, green=89.265306122448976, yellow=0.0)\n",
      "avg color: Colors(red=171.73469387755102, green=0.0, yellow=0.0)\n",
      "avg color: Colors(red=113.4453781512605, green=0.0, yellow=0.78151260504201681)\n",
      "avg color: Colors(red=166.56521739130434, green=0.0, yellow=0.0)\n",
      "avg color: Colors(red=0.0, green=92.137931034482762, yellow=0.0)\n",
      "avg color: Colors(red=0.0, green=91.851351351351354, yellow=0.0)\n",
      "avg color: Colors(red=137.01351351351352, green=0.0, yellow=0.0)\n",
      "avg color: Colors(red=172.54761904761904, green=0.0, yellow=0.0)\n",
      "avg color: Colors(red=0.0, green=92.571428571428569, yellow=0.0)\n",
      "avg color: Colors(red=0.0, green=0.0, yellow=0.0)\n",
      "avg color: Colors(red=167.92857142857142, green=0.0, yellow=0.0)\n",
      "avg color: Colors(red=169.58024691358025, green=0.0, yellow=0.0)\n",
      "avg color: Colors(red=120.83333333333333, green=0.0, yellow=0.0)\n",
      "avg color: Colors(red=0.0, green=90.491525423728817, yellow=0.0)\n",
      "avg color: Colors(red=0.0, green=93.84615384615384, yellow=0.0)\n",
      "avg color: Colors(red=0.0, green=0.0, yellow=0.0)\n",
      "avg color: Colors(red=0.0, green=91.472972972972968, yellow=0.0)\n",
      "avg color: Colors(red=0.0, green=87.400000000000006, yellow=0.0)\n",
      "avg color: Colors(red=165.0, green=0.0, yellow=0.0)\n",
      "avg color: Colors(red=0.0, green=89.714285714285708, yellow=0.0)\n",
      "avg color: Colors(red=171.62318840579709, green=0.0, yellow=0.0)\n",
      "avg color: Colors(red=0.0, green=92.0, yellow=0.0)\n",
      "avg color: Colors(red=136.08421052631579, green=0.0, yellow=0.0)\n",
      "avg color: Colors(red=134.69117647058823, green=0.0, yellow=0.0)\n",
      "avg color: Colors(red=0.0, green=90.381818181818176, yellow=0.0)\n",
      "avg color: Colors(red=0.0, green=0.0, yellow=0.0)\n",
      "avg color: Colors(red=0.0, green=91.319444444444443, yellow=0.0)\n",
      "avg color: Colors(red=0.0, green=92.457627118644069, yellow=0.0)\n",
      "avg color: Colors(red=127.42424242424242, green=0.0, yellow=0.0)\n",
      "avg color: Colors(red=165.14814814814815, green=0.0, yellow=0.0)\n",
      "avg color: Colors(red=149.9402985074627, green=0.0, yellow=0.0)\n",
      "avg color: Colors(red=0.0, green=89.400000000000006, yellow=0.0)\n",
      "avg color: Colors(red=149.84210526315789, green=0.0, yellow=0.0)\n",
      "avg color: Colors(red=0.0, green=87.258064516129039, yellow=0.0)\n",
      "avg color: Colors(red=158.17857142857142, green=0.0, yellow=0.0)\n",
      "avg color: Colors(red=74.373134328358205, green=0.0, yellow=0.0)\n",
      "avg color: Colors(red=169.49056603773585, green=0.0, yellow=0.0)\n",
      "avg color: Colors(red=113.12307692307692, green=0.0, yellow=0.0)\n",
      "avg color: Colors(red=171.66666666666666, green=0.0, yellow=0.0)\n",
      "avg color: Colors(red=0.0, green=0.0, yellow=0.0)\n",
      "avg color: Colors(red=0.0, green=90.483870967741936, yellow=0.0)\n",
      "avg color: Colors(red=0.0, green=89.533333333333331, yellow=0.0)\n",
      "avg color: Colors(red=0.0, green=88.142857142857139, yellow=0.0)\n",
      "avg color: Colors(red=0.0, green=91.84615384615384, yellow=0.0)\n",
      "avg color: Colors(red=173.73529411764707, green=0.0, yellow=0.0)\n",
      "avg color: Colors(red=0.0, green=87.819672131147541, yellow=0.0)\n",
      "avg color: Colors(red=171.68253968253967, green=0.0, yellow=0.0)\n",
      "avg color: Colors(red=0.0, green=87.693877551020407, yellow=0.0)\n",
      "avg color: Colors(red=169.77777777777777, green=0.0, yellow=0.0)\n",
      "avg color: Colors(red=0.0, green=95.0, yellow=0.0)\n",
      "avg color: Colors(red=109.01785714285714, green=0.0, yellow=0.0)\n",
      "avg color: Colors(red=174.13636363636363, green=0.0, yellow=0.0)\n",
      "avg color: Colors(red=175.04166666666666, green=0.0, yellow=0.0)\n",
      "avg color: Colors(red=130.25806451612902, green=0.0, yellow=0.0)\n",
      "avg color: Colors(red=0.0, green=92.617647058823536, yellow=0.0)\n",
      "avg color: Colors(red=0.0, green=87.692307692307693, yellow=0.0)\n",
      "avg color: Colors(red=139.94117647058823, green=0.0, yellow=0.56470588235294117)\n",
      "avg color: Colors(red=122.04225352112677, green=0.0, yellow=0.323943661971831)\n",
      "avg color: Colors(red=0.0, green=90.099999999999994, yellow=0.0)\n",
      "avg color: Colors(red=0.0, green=92.63636363636364, yellow=0.0)\n",
      "avg color: Colors(red=168.19999999999999, green=0.0, yellow=0.0)\n",
      "avg color: Colors(red=138.69306930693068, green=0.0, yellow=0.0)\n",
      "avg color: Colors(red=0.0, green=0.0, yellow=0.0)\n",
      "avg color: Colors(red=140.62790697674419, green=0.0, yellow=0.0)\n",
      "avg color: Colors(red=131.64566929133858, green=0.0, yellow=0.0)\n",
      "avg color: Colors(red=153.7906976744186, green=0.0, yellow=0.0)\n",
      "avg color: Colors(red=171.768115942029, green=0.0, yellow=0.0)\n",
      "avg color: Colors(red=0.0, green=90.282051282051285, yellow=0.0)\n",
      "avg color: Colors(red=139.38596491228071, green=0.0, yellow=0.40350877192982454)\n",
      "avg color: Colors(red=0.0, green=93.772727272727266, yellow=0.0)\n",
      "avg color: Colors(red=173.09090909090909, green=0.0, yellow=0.0)\n",
      "avg color: Colors(red=132.8909090909091, green=0.0, yellow=0.0)\n",
      "avg color: Colors(red=169.9607843137255, green=0.0, yellow=0.0)\n",
      "avg color: Colors(red=0.0, green=92.574074074074076, yellow=0.0)\n",
      "avg color: Colors(red=0.0, green=86.902777777777771, yellow=0.0)\n",
      "avg color: Colors(red=174.80000000000001, green=0.0, yellow=0.0)\n",
      "avg color: Colors(red=156.86206896551724, green=0.0, yellow=0.0)\n",
      "avg color: Colors(red=165.22727272727272, green=0.0, yellow=0.0)\n",
      "avg color: Colors(red=0.0, green=91.4375, yellow=0.0)\n",
      "Accuracy: 0.9326599326599326\n",
      "Number of misclassified images = 20 out of 297\n"
     ]
    }
   ],
   "source": [
    "# Constructs a list of misclassified images given a list of test images and their labels\n",
    "# This will throw an AssertionError if labels are not standardized (one-hot encoded)\n",
    "\n",
    "def get_misclassified_images(test_images):\n",
    "    # Track misclassified images by placing them into a list\n",
    "    misclassified_images_labels = []\n",
    "    true_pos = -1\n",
    "    # Iterate through all the test images\n",
    "    # Classify each image and compare to the true label\n",
    "    for image in test_images:\n",
    "        true_pos+=1\n",
    "        # Get true data\n",
    "        im = image[0]\n",
    "        true_label = image[1]\n",
    "        assert(len(true_label) == 3), \"The true_label is not the expected length (3).\"\n",
    "\n",
    "        # Get predicted label from your classifier\n",
    "        predicted_label = estimate_label(im)\n",
    "        assert(len(predicted_label) == 3), \"The predicted_label is not the expected length (3).\"\n",
    "\n",
    "        # Compare true and predicted labels \n",
    "        if(predicted_label != true_label):\n",
    "            # If these labels are not equal, the image has been misclassified\n",
    "            misclassified_images_labels.append((im, predicted_label, true_label))\n",
    "            \n",
    "    # Return the list of misclassified [image, predicted_label, true_label] values\n",
    "    return misclassified_images_labels\n",
    "\n",
    "\n",
    "# Find all misclassified images in a given test set\n",
    "MISCLASSIFIED = get_misclassified_images(STANDARDIZED_TEST_LIST)\n",
    "\n",
    "# Accuracy calculations\n",
    "total = len(STANDARDIZED_TEST_LIST)\n",
    "num_correct = total - len(MISCLASSIFIED)\n",
    "accuracy = num_correct/total\n",
    "\n",
    "print('Accuracy: ' + str(accuracy))\n",
    "print(\"Number of misclassified images = \" + str(len(MISCLASSIFIED)) +' out of '+ str(total))\n"
   ]
  },
  {
   "cell_type": "markdown",
   "metadata": {},
   "source": [
    "---\n",
    "<a id='task9'></a>\n",
    "### Visualize the misclassified images\n",
    "\n",
    "Visualize some of the images you classified wrong (in the `MISCLASSIFIED` list) and note any qualities that make them difficult to classify. This will help you identify any weaknesses in your classification algorithm."
   ]
  },
  {
   "cell_type": "code",
   "execution_count": 969,
   "metadata": {},
   "outputs": [
    {
     "name": "stdout",
     "output_type": "stream",
     "text": [
      "[0, 0, 0]\n",
      "[0, 1, 0]\n"
     ]
    },
    {
     "data": {
      "text/plain": [
       "<matplotlib.image.AxesImage at 0x7fe2505a6208>"
      ]
     },
     "execution_count": 969,
     "metadata": {},
     "output_type": "execute_result"
    },
    {
     "data": {
      "image/png": "[encoded data removed]",
      "text/plain": [
       "<matplotlib.figure.Figure at 0x7fe24f439898>"
      ]
     },
     "metadata": {
      "needs_background": "light"
     },
     "output_type": "display_data"
    }
   ],
   "source": [
    "# Visualize misclassified example(s)\n",
    "## TODO: Display an image in the `MISCLASSIFIED` list \n",
    "## TODO: Print out its predicted label - to see what the image *was* incorrectly classified as\n",
    "num = 8\n",
    "print(MISCLASSIFIED[num][1])\n",
    "print(MISCLASSIFIED[num][2])\n",
    "#print(MISCLASSIFIED[num][3])\n",
    "plt.imshow(MISCLASSIFIED[num][0])"
   ]
  },
  {
   "cell_type": "markdown",
   "metadata": {},
   "source": [
    "---\n",
    "<a id='question2'></a>\n",
    "## (Question 2): After visualizing these misclassifications, what weaknesses do you think your classification algorithm has? Please note at least two."
   ]
  },
  {
   "cell_type": "markdown",
   "metadata": {},
   "source": [
    "**Answer:** Write your answer in this cell."
   ]
  },
  {
   "cell_type": "markdown",
   "metadata": {},
   "source": [
    "## Test if you classify any red lights as green\n",
    "\n",
    "**To pass this project, you must not classify any red lights as green!** Classifying red lights as green would cause a car to drive through a red traffic light, so this red-as-green error is very dangerous in the real world. \n",
    "\n",
    "The code below lets you test to see if you've misclassified any red lights as green in the test set. **This test assumes that `MISCLASSIFIED` is a list of tuples with the order: [misclassified_image, predicted_label, true_label].**\n",
    "\n",
    "Note: this is not an all encompassing test, but its a good indicator that, if you pass, you are on the right track! This iterates through your list of misclassified examples and checks to see if any red traffic lights have been mistakenly labelled [0, 1, 0] (green)."
   ]
  },
  {
   "cell_type": "code",
   "execution_count": 916,
   "metadata": {},
   "outputs": [
    {
     "data": {
      "text/markdown": [
       "**<span style=\"color: green;\">TEST PASSED</span>**"
      ],
      "text/plain": [
       "<IPython.core.display.Markdown object>"
      ]
     },
     "metadata": {},
     "output_type": "display_data"
    }
   ],
   "source": [
    "# Importing the tests\n",
    "import test_functions\n",
    "tests = test_functions.Tests()\n",
    "\n",
    "if(len(MISCLASSIFIED) > 0):\n",
    "    # Test code for one_hot_encode function\n",
    "    tests.test_red_as_green(MISCLASSIFIED)\n",
    "else:\n",
    "    print(\"MISCLASSIFIED may not have been populated with images.\")\n"
   ]
  },
  {
   "cell_type": "markdown",
   "metadata": {},
   "source": [
    "# 5. Improve your algorithm!\n",
    "\n",
    "**Submit your project after you have completed all implementations, answered all questions, AND when you've met the two criteria:**\n",
    "1. Greater than 90% accuracy classification\n",
    "2. No red lights classified as green\n",
    "\n",
    "If you did not meet these requirements (which is common on the first attempt!), revisit your algorithm and tweak it to improve light recognition -- this could mean changing the brightness feature, performing some background subtraction, or adding another feature!\n",
    "\n",
    "---"
   ]
  },
  {
   "cell_type": "markdown",
   "metadata": {
    "collapsed": true
   },
   "source": [
    "### Going Further (Optional Challenges)\n",
    "\n",
    "If you found this challenge easy, I suggest you go above and beyond! Here are a couple **optional** (meaning you do not need to implement these to submit and pass the project) suggestions:\n",
    "* (Optional) Aim for >95% classification accuracy.\n",
    "* (Optional) Some lights are in the shape of arrows; further classify the lights as round or arrow-shaped.\n",
    "* (Optional) Add another feature and aim for as close to 100% accuracy as you can get!"
   ]
  },
  {
   "cell_type": "code",
   "execution_count": null,
   "metadata": {
    "collapsed": true
   },
   "outputs": [],
   "source": []
  }
 ],
 "metadata": {
  "anaconda-cloud": {},
  "kernelspec": {
   "display_name": "Python 3",
   "language": "python",
   "name": "python3"
  },
  "language_info": {
   "codemirror_mode": {
    "name": "ipython",
    "version": 3
   },
   "file_extension": ".py",
   "mimetype": "text/x-python",
   "name": "python",
   "nbconvert_exporter": "python",
   "pygments_lexer": "ipython3",
   "version": "3.6.3"
  }
 },
 "nbformat": 4,
 "nbformat_minor": 2
}
